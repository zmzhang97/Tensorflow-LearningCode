{
 "cells": [
  {
   "cell_type": "markdown",
   "metadata": {},
   "source": [
    "## 线性回归\n",
    "* 代码讲解    \n",
    "在随机点上进行拟合"
   ]
  },
  {
   "cell_type": "code",
   "execution_count": 1,
   "metadata": {
    "ExecuteTime": {
     "end_time": "2020-09-30T14:33:20.518418Z",
     "start_time": "2020-09-30T14:33:04.373767Z"
    }
   },
   "outputs": [],
   "source": [
    "import tensorflow as tf\n",
    "import numpy as np\n",
    "import matplotlib.pyplot as plt\n"
   ]
  },
  {
   "cell_type": "code",
   "execution_count": 8,
   "metadata": {
    "ExecuteTime": {
     "end_time": "2020-09-30T14:35:51.359720Z",
     "start_time": "2020-09-30T14:35:44.822398Z"
    }
   },
   "outputs": [
    {
     "data": {
      "image/png": "[encoded data removed]",
      "text/plain": [
       "<Figure size 432x288 with 1 Axes>"
      ]
     },
     "metadata": {
      "needs_background": "light"
     },
     "output_type": "display_data"
    }
   ],
   "source": [
    "# 使用numpy生成200个随机点，作为样本\n",
    "x_data = np.linspace(-0.5, 0.5, 200)[:,np.newaxis] #生成从-0.5到0.5均匀分布的200个数值，扩展到二维（200*1）\n",
    "noise = np.random.normal(0,0.02,x_data.shape)   #生成随机值，形状和x_data一样\n",
    "y_data = np.square(x_data) + noise\n",
    "\n",
    "\n",
    "# 定义两个placeholder\n",
    "x = tf.placeholder(tf.float32,[None, 1])    #(浮点型，定义形状[行不确定，列为一列])\n",
    "y = tf.placeholder(tf.float32,[None, 1])\n",
    "\n",
    "\n",
    "# 定义神经网络中间层（10个神经元）\n",
    "Weights_L1 = tf.Variable(tf.random.normal([1,10]))  #权重，tensorflow中的变量，赋值随机数（1*10）[输入层个数，中间层个数]\n",
    "biases_L1 = tf.Variable(tf.zeros([1,10]))   #偏置，初始化为0\n",
    "Wx_plus_b_L1 = tf.matmul(x,Weights_L1) + biases_L1  #信号的总和，矩阵乘法（输入一个矩阵，权值也是矩阵）+偏置\n",
    "L1 = tf.nn.tanh(Wx_plus_b_L1)   #双曲正切函数作为激活函数，得到中间层的输出L1\n",
    "\n",
    "\n",
    "# 定义神经网络输出层（1个神经元）\n",
    "Weights_L2 = tf.Variable(tf.random.normal([10,1]))\n",
    "biases_L2 = tf.Variable(tf.zeros([1,1]))\n",
    "Wx_plus_b_L2 = tf.matmul(L1,Weights_L2) + biases_L2\n",
    "prediction = tf.nn.tanh(Wx_plus_b_L2)\n",
    "\n",
    "# 定义二次代价函数\n",
    "loss = tf.reduce_mean(tf.square(y-prediction))   #真实值-预测值，再求平均值\n",
    "# 使用梯度下降法\n",
    "train_step = tf.train.GradientDescentOptimizer(0.1).minimize(loss)  #学习率为0.1，最小化loss\n",
    "\n",
    "\n",
    "#定义绘画\n",
    "with tf.Session() as sess:\n",
    "    #变量的初试化（只要使用到就要初始化）\n",
    "    sess.run(tf.global_variables_initializer())\n",
    "    for _ in range (2000):   #训练2000次\n",
    "        sess.run(train_step,feed_dict={x:x_data,y:y_data})\n",
    "        \n",
    "    #获得预测值\n",
    "    prediction_value = sess.run(prediction,feed_dict={x:x_data})\n",
    "    #画图显示预测的结果\n",
    "    plt.figure()\n",
    "    plt.scatter(x_data,y_data)\n",
    "    plt.plot(x_data,prediction_value,'r-',lw=5)\n",
    "    plt.show()\n"
   ]
  },
  {
   "cell_type": "markdown",
   "metadata": {},
   "source": [
    "![](images/3-1.1.png)"
   ]
  }
 ],
 "metadata": {
  "kernelspec": {
   "display_name": "Python 3",
   "language": "python",
   "name": "python3"
  },
  "language_info": {
   "codemirror_mode": {
    "name": "ipython",
    "version": 3
   },
   "file_extension": ".py",
   "mimetype": "text/x-python",
   "name": "python",
   "nbconvert_exporter": "python",
   "pygments_lexer": "ipython3",
   "version": "3.7.3"
  },
  "toc": {
   "base_numbering": 1,
   "nav_menu": {},
   "number_sections": true,
   "sideBar": true,
   "skip_h1_title": false,
   "title_cell": "Table of Contents",
   "title_sidebar": "Contents",
   "toc_cell": false,
   "toc_position": {},
   "toc_section_display": true,
   "toc_window_display": false
  }
 },
 "nbformat": 4,
 "nbformat_minor": 2
}
